{
 "cells": [
  {
   "cell_type": "code",
   "execution_count": 1,
   "id": "97e772ec-1028-40bd-b31e-9adfbe70fdea",
   "metadata": {},
   "outputs": [],
   "source": [
    "import matplotlib.pyplot as plt\n",
    "import numpy as np\n",
    "import pandas as pd\n",
    "import zipfile"
   ]
  },
  {
   "cell_type": "markdown",
   "id": "ae39fb54-c1ed-4989-8263-8f0c281454a3",
   "metadata": {},
   "source": [
    "### Q. 4"
   ]
  },
  {
   "cell_type": "code",
   "execution_count": 2,
   "id": "a0c27f3c-7936-4b5a-a7c2-ca2940074d0b",
   "metadata": {},
   "outputs": [
    {
     "data": {
      "text/html": [
       "<div>\n",
       "<style scoped>\n",
       "    .dataframe tbody tr th:only-of-type {\n",
       "        vertical-align: middle;\n",
       "    }\n",
       "\n",
       "    .dataframe tbody tr th {\n",
       "        vertical-align: top;\n",
       "    }\n",
       "\n",
       "    .dataframe thead th {\n",
       "        text-align: right;\n",
       "    }\n",
       "</style>\n",
       "<table border=\"1\" class=\"dataframe\">\n",
       "  <thead>\n",
       "    <tr style=\"text-align: right;\">\n",
       "      <th></th>\n",
       "      <th>k</th>\n",
       "      <th>N</th>\n",
       "    </tr>\n",
       "  </thead>\n",
       "  <tbody>\n",
       "    <tr>\n",
       "      <th>0</th>\n",
       "      <td>30578667846</td>\n",
       "      <td>1</td>\n",
       "    </tr>\n",
       "    <tr>\n",
       "      <th>1</th>\n",
       "      <td>22077031422</td>\n",
       "      <td>1</td>\n",
       "    </tr>\n",
       "    <tr>\n",
       "      <th>2</th>\n",
       "      <td>21594821357</td>\n",
       "      <td>1</td>\n",
       "    </tr>\n",
       "    <tr>\n",
       "      <th>3</th>\n",
       "      <td>19401194714</td>\n",
       "      <td>1</td>\n",
       "    </tr>\n",
       "    <tr>\n",
       "      <th>4</th>\n",
       "      <td>16337125274</td>\n",
       "      <td>1</td>\n",
       "    </tr>\n",
       "  </tbody>\n",
       "</table>\n",
       "</div>"
      ],
      "text/plain": [
       "             k  N\n",
       "0  30578667846  1\n",
       "1  22077031422  1\n",
       "2  21594821357  1\n",
       "3  19401194714  1\n",
       "4  16337125274  1"
      ]
     },
     "execution_count": 2,
     "metadata": {},
     "output_type": "execute_result"
    }
   ],
   "source": [
    "zipped_file = 'vocab_cs_mod.txt.gz'\n",
    "column_names = ['k', 'N']\n",
    "k_N_df = pd.read_csv(zipped_file,\n",
    "                     compression='gzip',\n",
    "                     sep=' ',\n",
    "                     names=column_names)\n",
    "k_N_df.head()"
   ]
  },
  {
   "cell_type": "code",
   "execution_count": 3,
   "id": "2efbff86-b16f-4921-ae35-eae100f12b10",
   "metadata": {},
   "outputs": [
    {
     "data": {
      "text/plain": [
       "k    30578667846\n",
       "N          48262\n",
       "dtype: int64"
      ]
     },
     "execution_count": 3,
     "metadata": {},
     "output_type": "execute_result"
    }
   ],
   "source": [
    "k_N_df.max()\n",
    "# max k corresponds with the number of times a word appears in the corpus (maybe \"the\" appears 30,578,667,846 times)\n",
    "# max N corresponds with the maximum number of words that appear k times in the corpus (probably the min k)"
   ]
  },
  {
   "cell_type": "code",
   "execution_count": 4,
   "id": "9eb9b90a-1f5e-402c-ba18-d4161c739db2",
   "metadata": {},
   "outputs": [
    {
     "data": {
      "text/plain": [
       "k    200\n",
       "N      1\n",
       "dtype: int64"
      ]
     },
     "execution_count": 4,
     "metadata": {},
     "output_type": "execute_result"
    }
   ],
   "source": [
    "k_N_df.min()\n",
    "# Google cuts of the corpus at words that appear 200 times -- anything less frequent is ignored\n",
    "# min N means for some k's there is only one word that appears that frequently (probably for things close to max k)"
   ]
  },
  {
   "cell_type": "code",
   "execution_count": 5,
   "id": "1e33b906-7585-4137-8158-9a3ff2bbe1ab",
   "metadata": {},
   "outputs": [
    {
     "data": {
      "text/plain": [
       "<matplotlib.collections.PathCollection at 0x13461a820>"
      ]
     },
     "execution_count": 5,
     "metadata": {},
     "output_type": "execute_result"
    },
    {
     "data": {
      "image/png": "[encoded data removed]",
      "text/plain": [
       "<Figure size 640x480 with 1 Axes>"
      ]
     },
     "metadata": {},
     "output_type": "display_data"
    }
   ],
   "source": [
    "# Set up plot for raw data\n",
    "plt.xlabel('k')\n",
    "plt.ylabel('N_k')\n",
    "plt.title('Raw Data')\n",
    "plt.scatter(k_N_df['k'],k_N_df['N'])"
   ]
  },
  {
   "cell_type": "code",
   "execution_count": 6,
   "id": "3ee24e8c-98e3-47fb-9108-dc7f60c9ea5d",
   "metadata": {},
   "outputs": [
    {
     "data": {
      "text/html": [
       "<div>\n",
       "<style scoped>\n",
       "    .dataframe tbody tr th:only-of-type {\n",
       "        vertical-align: middle;\n",
       "    }\n",
       "\n",
       "    .dataframe tbody tr th {\n",
       "        vertical-align: top;\n",
       "    }\n",
       "\n",
       "    .dataframe thead th {\n",
       "        text-align: right;\n",
       "    }\n",
       "</style>\n",
       "<table border=\"1\" class=\"dataframe\">\n",
       "  <thead>\n",
       "    <tr style=\"text-align: right;\">\n",
       "      <th></th>\n",
       "      <th>k</th>\n",
       "      <th>N</th>\n",
       "      <th>log10_k</th>\n",
       "      <th>log10_N</th>\n",
       "    </tr>\n",
       "  </thead>\n",
       "  <tbody>\n",
       "    <tr>\n",
       "      <th>0</th>\n",
       "      <td>30578667846</td>\n",
       "      <td>1</td>\n",
       "      <td>10.485419</td>\n",
       "      <td>0.0</td>\n",
       "    </tr>\n",
       "    <tr>\n",
       "      <th>1</th>\n",
       "      <td>22077031422</td>\n",
       "      <td>1</td>\n",
       "      <td>10.343941</td>\n",
       "      <td>0.0</td>\n",
       "    </tr>\n",
       "    <tr>\n",
       "      <th>2</th>\n",
       "      <td>21594821357</td>\n",
       "      <td>1</td>\n",
       "      <td>10.334350</td>\n",
       "      <td>0.0</td>\n",
       "    </tr>\n",
       "    <tr>\n",
       "      <th>3</th>\n",
       "      <td>19401194714</td>\n",
       "      <td>1</td>\n",
       "      <td>10.287828</td>\n",
       "      <td>0.0</td>\n",
       "    </tr>\n",
       "    <tr>\n",
       "      <th>4</th>\n",
       "      <td>16337125274</td>\n",
       "      <td>1</td>\n",
       "      <td>10.213176</td>\n",
       "      <td>0.0</td>\n",
       "    </tr>\n",
       "  </tbody>\n",
       "</table>\n",
       "</div>"
      ],
      "text/plain": [
       "             k  N    log10_k  log10_N\n",
       "0  30578667846  1  10.485419      0.0\n",
       "1  22077031422  1  10.343941      0.0\n",
       "2  21594821357  1  10.334350      0.0\n",
       "3  19401194714  1  10.287828      0.0\n",
       "4  16337125274  1  10.213176      0.0"
      ]
     },
     "execution_count": 6,
     "metadata": {},
     "output_type": "execute_result"
    }
   ],
   "source": [
    "# Create log10 columns\n",
    "k_N_df['log10_k'] = np.log10(k_N_df['k'])\n",
    "k_N_df['log10_N'] = np.log10(k_N_df['N'])\n",
    "k_N_df.head()"
   ]
  },
  {
   "cell_type": "code",
   "execution_count": 7,
   "id": "a75a3e55-d7da-4e5b-aff7-8ac4adbf6c64",
   "metadata": {},
   "outputs": [
    {
     "data": {
      "text/plain": [
       "<matplotlib.collections.PathCollection at 0x13468d490>"
      ]
     },
     "execution_count": 7,
     "metadata": {},
     "output_type": "execute_result"
    },
    {
     "data": {
      "image/png": "[encoded data removed]",
      "text/plain": [
       "<Figure size 640x480 with 1 Axes>"
      ]
     },
     "metadata": {},
     "output_type": "display_data"
    }
   ],
   "source": [
    "# Set up plot for Log10 Data\n",
    "plt.xlabel('log10 k')\n",
    "plt.ylabel('log10 N_k')\n",
    "plt.title('Log-Log Data')\n",
    "plt.scatter(k_N_df['log10_k'],k_N_df['log10_N'])"
   ]
  },
  {
   "cell_type": "markdown",
   "id": "a763fe36-3b7a-44da-9b40-6d8a8685b07f",
   "metadata": {},
   "source": [
    "### Question 5"
   ]
  },
  {
   "cell_type": "code",
   "execution_count": 8,
   "id": "ddb2eb1b-98bd-41cf-a7ba-538f0622ab4d",
   "metadata": {},
   "outputs": [],
   "source": [
    "# I'm going to say, Power Law Scaling holds up to log10 k = 5ish\n",
    "# Or, k = 10^5\n",
    "\n",
    "max_log10_k = 4.5  # changed after seeing the plot\n",
    "\n",
    "# Subset our dataframe to just that data\n",
    "k_N_pl_range = k_N_df[k_N_df['log10_k'] < max_log10_k]\n"
   ]
  },
  {
   "cell_type": "code",
   "execution_count": 9,
   "id": "49a5c32b-2e9b-49d4-9f91-06b84ddd643b",
   "metadata": {},
   "outputs": [
    {
     "name": "stderr",
     "output_type": "stream",
     "text": [
      "/var/folders/wp/lq_w646n77jc1slxh2r_13f00000gn/T/ipykernel_9151/31657959.py:4: FutureWarning: `rcond` parameter will change to the default of machine precision times ``max(M, N)`` where M and N are the input matrix dimensions.\n",
      "To use the future default and silence this warning we advise to pass `rcond=None`, to keep using the old, explicitly pass `rcond=-1`.\n",
      "  slope, intercept = np.linalg.lstsq(A, k_N_pl_range['log10_N'])[0]\n"
     ]
    }
   ],
   "source": [
    "# Fit least squares regression\n",
    "x = k_N_pl_range['log10_k']\n",
    "A = np.vstack([x, np.ones(len(x))]).T\n",
    "slope, intercept = np.linalg.lstsq(A, k_N_pl_range['log10_N'])[0]"
   ]
  },
  {
   "cell_type": "code",
   "execution_count": 10,
   "id": "27bedb60-f715-4d0d-8a67-94093a1dcbe1",
   "metadata": {},
   "outputs": [
    {
     "data": {
      "text/plain": [
       "Text(2.5, 0.5, 'gamma: 1.75')"
      ]
     },
     "execution_count": 10,
     "metadata": {},
     "output_type": "execute_result"
    },
    {
     "data": {
      "image/png": "[encoded data removed]",
      "text/plain": [
       "<Figure size 640x480 with 1 Axes>"
      ]
     },
     "metadata": {},
     "output_type": "display_data"
    }
   ],
   "source": [
    "# Replot\n",
    "plt.xlabel('log10 k')\n",
    "plt.ylabel('log10 N_k')\n",
    "plt.title('Range where power-law scaling appears to hold')\n",
    "plt.scatter(k_N_pl_range['log10_k'],k_N_pl_range['log10_N'])\n",
    "plt.plot(x, slope * x + intercept, 'black')\n",
    "plt.text(2.5, 0.5, f\"gamma: {slope*-1:.2f}\")"
   ]
  },
  {
   "cell_type": "markdown",
   "id": "2b4a3f2b-a1a5-44fe-baa3-999c05f5d8ce",
   "metadata": {},
   "source": [
    "### Question 6"
   ]
  },
  {
   "cell_type": "code",
   "execution_count": 11,
   "id": "fc51d880-27df-4e85-ac59-c3e6e9c7ccbd",
   "metadata": {},
   "outputs": [],
   "source": [
    "# Compute the mean and the standard deviation\n",
    "# Don't use log-log"
   ]
  },
  {
   "cell_type": "code",
   "execution_count": 26,
   "id": "384ded52-a517-431b-b982-1338ca39a4fe",
   "metadata": {},
   "outputs": [
    {
     "name": "stdout",
     "output_type": "stream",
     "text": [
      "13538092.0\n"
     ]
    }
   ],
   "source": [
    "total_N = np.sum(k_N_df['N'])*1.0  # coerce to float\n",
    "print(total_N)"
   ]
  },
  {
   "cell_type": "code",
   "execution_count": 37,
   "id": "80cb17e2-ce2c-438a-94cd-b68c22a501b1",
   "metadata": {},
   "outputs": [
    {
     "data": {
      "text/plain": [
       "61651.634972417065"
      ]
     },
     "execution_count": 37,
     "metadata": {},
     "output_type": "execute_result"
    }
   ],
   "source": [
    "# Compute the actual mean, mu, of the dataset\n",
    "k_N_df['weighted_kN'] = k_N_df['k'].astype('float') * k_N_df['N'] / total_N\n",
    "mu = np.sum(k_N_df['weighted_kN'])\n",
    "mu"
   ]
  },
  {
   "cell_type": "code",
   "execution_count": 43,
   "id": "ad2e5862-21ef-4902-9695-bd80da98809d",
   "metadata": {},
   "outputs": [],
   "source": [
    "# Compute the variance of the dataset\n",
    "k_N_df['sq_dist'] = (k_N_df['k'].astype('float')**2 * k_N_df['N'] / total_N)\n",
    "\n",
    "variance = np.sum(k_N_df['sq_dist']) - mu**2\n"
   ]
  },
  {
   "cell_type": "code",
   "execution_count": 44,
   "id": "2d77cc3a-a578-4cc4-aa95-f6abb77f9886",
   "metadata": {},
   "outputs": [
    {
     "data": {
      "text/plain": [
       "281698028704157.6"
      ]
     },
     "execution_count": 44,
     "metadata": {},
     "output_type": "execute_result"
    }
   ],
   "source": [
    "variance"
   ]
  },
  {
   "cell_type": "code",
   "execution_count": 45,
   "id": "d6c13f48-ee89-4708-8618-e15d672b0ac6",
   "metadata": {},
   "outputs": [
    {
     "data": {
      "text/plain": [
       "16783862.151011538"
      ]
     },
     "execution_count": 45,
     "metadata": {},
     "output_type": "execute_result"
    }
   ],
   "source": [
    "variance ** 0.5"
   ]
  },
  {
   "cell_type": "code",
   "execution_count": null,
   "id": "5bc0337c-d097-4d9b-94b3-d2b2133df9c5",
   "metadata": {},
   "outputs": [],
   "source": [
    "gamma = 1.75  # from above fit line\n",
    "a = 200 # from lower bound of data set\n",
    "# I'm assuming b goes to infinite but maybe that's a bad assumption\n",
    "\n",
    "# Compute the theoretical standard deviation of the dataset\n",
    "theoretical_variance = a**2*(1 - gamma) / ((gamma - 3)*(gamma - 2)**2)\n",
    "theoretical_stdev = theoretical_variance ** 0.5\n",
    "theoretical_stdev"
   ]
  },
  {
   "cell_type": "code",
   "execution_count": null,
   "id": "e2cefb8f-338c-4e9d-ae7b-40737d090402",
   "metadata": {},
   "outputs": [],
   "source": [
    "# Compute the theoretical mu of the dataset\n",
    "theoretical_mu = (gamma - 1)*a/(2 - gamma) * -1\n",
    "theoretical_mu"
   ]
  }
 ],
 "metadata": {
  "kernelspec": {
   "display_name": "Python 3 (ipykernel)",
   "language": "python",
   "name": "python3"
  },
  "language_info": {
   "codemirror_mode": {
    "name": "ipython",
    "version": 3
   },
   "file_extension": ".py",
   "mimetype": "text/x-python",
   "name": "python",
   "nbconvert_exporter": "python",
   "pygments_lexer": "ipython3",
   "version": "3.9.1"
  }
 },
 "nbformat": 4,
 "nbformat_minor": 5
}
